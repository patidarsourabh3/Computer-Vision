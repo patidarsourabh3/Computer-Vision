{
 "cells": [
  {
   "cell_type": "markdown",
   "id": "fb1c12d9",
   "metadata": {},
   "source": [
    "                                           CS7.505: Computer Vision \n",
    "                                 Assignment - 0 : OpenCV and Chroma Keying"
   ]
  },
  {
   "cell_type": "markdown",
   "id": "94cd18e6",
   "metadata": {},
   "source": [
    "### Basic Assumptions"
   ]
  },
  {
   "cell_type": "markdown",
   "id": "12f8f70b",
   "metadata": {},
   "source": [
    " - Language Used - Python 3.8.10\n",
    " - All the input are hardcoded\n",
    " - All the input and output images and videos are uploaded at \n",
    " - Libraries required - cv2, os, numpy\n",
    " "
   ]
  },
  {
   "cell_type": "markdown",
   "id": "5358d0f0",
   "metadata": {},
   "source": [
    "### Importing all the required libraries"
   ]
  },
  {
   "cell_type": "code",
   "execution_count": 2,
   "id": "d172314d",
   "metadata": {},
   "outputs": [],
   "source": [
    "import cv2\n",
    "import os\n",
    "import numpy as np"
   ]
  },
  {
   "cell_type": "markdown",
   "id": "9c3158a0",
   "metadata": {},
   "source": [
    "# Task 1 - Video ↔ Images: "
   ]
  },
  {
   "cell_type": "markdown",
   "id": "0047dc39",
   "metadata": {},
   "source": [
    "### Problem Statement -\n",
    "Write a program to convert a given video to its constituent images. Your output should be in a specified folder. Write another program that will merge a set of images in a folder into a single video. You should be able to control the frame rate in the video that is created."
   ]
  },
  {
   "cell_type": "markdown",
   "id": "c8e7aa6a",
   "metadata": {},
   "source": [
    "### Solution Approach -\n",
    "The task involves two steps. First step is to extract all the frames from given video and after that using this frames create a video with specified frame rate.\n",
    "1. **Converting video to frames :** To read the video we can use VideoCapture() function of cv2 library in openCV. Then after store video in a variable we can read frames of video by read() function in cv2 library and store each frame in specified folder using imwrite function.\n",
    "2. **Converting frames to Video :** Now to convert the frames into a video we will read each frame one by one and will store then in an array or list. Now we will create an VideoWriter object. VideoWriter object take outputfile name , cv2.VideoWriter_fourcc(*'DIVX'), frame rate and size of frame as arguments. As a last step we have to write all the frame in VideoWriter object."
   ]
  },
  {
   "cell_type": "markdown",
   "id": "9240956c",
   "metadata": {},
   "source": [
    "### Code  -"
   ]
  },
  {
   "cell_type": "code",
   "execution_count": null,
   "id": "65130cd9",
   "metadata": {},
   "outputs": [],
   "source": [
    "def convert_video_to_frames(filename, outputPath):\n",
    "    video_capature = cv2.VideoCapture(filename)\n",
    "    count = 1\n",
    "    while True:\n",
    "        success,image = video_capature.read()\n",
    "        if success == False:\n",
    "            break\n",
    "        cv2.imwrite(outputPath + \"frame%d.jpg\" % count, image)   \n",
    "        print(\"Frame {} saved!!!!\".format(count))\n",
    "        count += 1\n",
    "    return"
   ]
  },
  {
   "cell_type": "code",
   "execution_count": null,
   "id": "e6daf5a8",
   "metadata": {},
   "outputs": [],
   "source": [
    "def convert_frames_to_video(inputPath,outputPath,frame_rate):\n",
    "    frame_array = []\n",
    "    no_of_frames = len(os.listdir(inputPath))\n",
    "    for i in range(no_of_frames):\n",
    "        frame = cv2.imread(inputPath+\"frame%d.jpg\" %(i+1))\n",
    "        frame_array.append(frame)\n",
    "    height, width, layers = frame_array[0].shape\n",
    "    size = (width,height)\n",
    "    out = cv2.VideoWriter(outputPath,cv2.VideoWriter_fourcc(*'DIVX'), frame_rate, size)\n",
    "    for i in range(len(frame_array)):\n",
    "        print(\"Frame {} added to video\".format(i))\n",
    "        out.write(frame_array[i])\n",
    "    out.release()"
   ]
  },
  {
   "cell_type": "code",
   "execution_count": null,
   "id": "ab61f1f3",
   "metadata": {},
   "outputs": [],
   "source": [
    "filename = \"Input/task1.mp4\"\n",
    "outputPath = \"Output/Task1/\"\n",
    "convert_video_to_frames(filename, outputPath)"
   ]
  },
  {
   "cell_type": "code",
   "execution_count": null,
   "id": "266a8d76",
   "metadata": {},
   "outputs": [],
   "source": [
    "inputPath = \"Output/Task1/\"\n",
    "outputPath = \"Output/task1.avi\"\n",
    "frame_rate = 25.0\n",
    "convert_frames_to_video(inputPath, outputPath, frame_rate)"
   ]
  },
  {
   "cell_type": "markdown",
   "id": "e8354a7d",
   "metadata": {},
   "source": [
    "### Challenges"
   ]
  },
  {
   "cell_type": "markdown",
   "id": "31fce6de",
   "metadata": {},
   "source": [
    "### Learning"
   ]
  },
  {
   "cell_type": "markdown",
   "id": "c494ccee",
   "metadata": {},
   "source": [
    "### Sample Results"
   ]
  },
  {
   "cell_type": "raw",
   "id": "ebe1750c",
   "metadata": {},
   "source": []
  },
  {
   "cell_type": "markdown",
   "id": "bce12719",
   "metadata": {},
   "source": [
    "#  Task 2 - Capturing Images: "
   ]
  },
  {
   "cell_type": "markdown",
   "id": "f45b0b1d",
   "metadata": {},
   "source": [
    "#### Problem Statement\n",
    "Learn how to capture frames from a webcam connected to your computer and save them as images in a folder. You may use either the built-in camera of your laptop or an external one connected through USB. You should also be able to display the frames (the video) on the screen while capturing."
   ]
  },
  {
   "cell_type": "markdown",
   "id": "7ef61f47",
   "metadata": {},
   "source": [
    "### Solution Approach "
   ]
  },
  {
   "cell_type": "code",
   "execution_count": null,
   "id": "dbe61b8b",
   "metadata": {},
   "outputs": [],
   "source": [
    "video_capture = cv2.VideoCapture(0)\n",
    "i = 1\n",
    "while (video_capture.isOpened()):\n",
    "    ret, frame = video_capture.read()\n",
    "    if ret == False:\n",
    "        break\n",
    "    cv2.imwrite('Output/Task2/Frame%d.jpg'%frame)\n",
    "    i += 1\n",
    "cap.release()\n",
    "cv2.destroyAllWindows()"
   ]
  },
  {
   "cell_type": "markdown",
   "id": "52f9c05e",
   "metadata": {},
   "source": [
    "# Task 3 - Chroma Keying: \n"
   ]
  },
  {
   "cell_type": "markdown",
   "id": "8b085bf2",
   "metadata": {},
   "source": [
    "### Problem Statement\n",
    "Read about the technique of chroma keying. Following are a few good starting points:\n",
    "- Introduction: http://en.wikipedia.org/wiki/Chroma key\n",
    "- Alvy Ray Smith and James F Blinn, ”Blue Screen Matting”, SIGGRAPH’96.\n",
    "\n",
    "Create an interesting composite of two videos using this technique, possibly with one video including yourselves."
   ]
  },
  {
   "cell_type": "markdown",
   "id": "fe270a2d",
   "metadata": {},
   "source": [
    "### Solution Approach "
   ]
  },
  {
   "cell_type": "markdown",
   "id": "8cd0d980",
   "metadata": {},
   "source": [
    "### Code"
   ]
  },
  {
   "cell_type": "code",
   "execution_count": null,
   "id": "2bcb463c",
   "metadata": {},
   "outputs": [],
   "source": [
    "green_screen_video = \"Input/green_screen.mp4\"\n",
    "background_video = \"Input/back.mp4\"\n",
    "outputPath_gs = \"Output/Task3/gs/\" \n",
    "outputPath_bg = \"Output/Task3/bg/\"\n",
    "#convert_video_to_frames(green_screen_video ,outputPath_gs)\n",
    "convert_video_to_frames(background_video ,outputPath_bg)"
   ]
  },
  {
   "cell_type": "code",
   "execution_count": null,
   "id": "ef72ed7d",
   "metadata": {},
   "outputs": [],
   "source": [
    "# Composite frames\n",
    "count = 1\n",
    "while True:\n",
    "    image = cv2.imread('Output/Task3/gs/frame%d.jpg' % count)\n",
    "    if image is None:\n",
    "        break\n",
    "    image_copy = np.copy(image)\n",
    "    lower_green = np.array([0, 90, 0])\n",
    "    upper_green = np.array([120, 255, 100])\n",
    "    mask = cv2.inRange(image_copy, lower_green, upper_green)\n",
    "    masked_image = np.copy(image_copy)\n",
    "    masked_image[mask != 0] = [0, 0, 0]\n",
    "    background_image = cv2.imread('Output/Task3/bg/frame%d.jpg' % count)\n",
    "    if background_image is None:\n",
    "        break\n",
    "    crop_background = background_image[0:720, 0:1280]\n",
    "    crop_background[mask == 0] = [0, 0, 0]\n",
    "    final_image = crop_background + masked_image\n",
    "    print(\"Frame Composited : \", count)\n",
    "    count = count+1\n",
    "    cv2.imwrite(\"Output/Task3/final/frame%d.jpg\" % count, final_image)\n",
    "    cv2.destroyAllWindows()"
   ]
  },
  {
   "cell_type": "code",
   "execution_count": null,
   "id": "1d566e85",
   "metadata": {},
   "outputs": [],
   "source": [
    "inputPath = \"Output/Task3/final/\"\n",
    "outputPath = \"Output/task3.avi\"\n",
    "frame_rate = 25.0\n",
    "convert_frames_to_video(inputPath, outputPath, frame_rate)"
   ]
  }
 ],
 "metadata": {
  "kernelspec": {
   "display_name": "Python 3 (ipykernel)",
   "language": "python",
   "name": "python3"
  },
  "language_info": {
   "codemirror_mode": {
    "name": "ipython",
    "version": 3
   },
   "file_extension": ".py",
   "mimetype": "text/x-python",
   "name": "python",
   "nbconvert_exporter": "python",
   "pygments_lexer": "ipython3",
   "version": "3.8.10"
  }
 },
 "nbformat": 4,
 "nbformat_minor": 5
}
